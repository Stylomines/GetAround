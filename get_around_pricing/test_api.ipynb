{
 "cells": [
  {
   "cell_type": "code",
   "execution_count": 50,
   "metadata": {},
   "outputs": [
    {
     "data": {
      "text/plain": [
       "b'{\"1447\":{\"model_key\":\"Peugeot\",\"mileage\":48869,\"engine_power\":110,\"fuel\":\"diesel\",\"paint_color\":\"blue\",\"car_type\":\"estate\",\"private_parking_available\":true,\"has_gps\":true,\"has_air_conditioning\":false,\"automatic_car\":false,\"has_getaround_connect\":false,\"has_speed_regulator\":false,\"winter_tires\":true,\"rental_price_per_day\":144},\"2966\":{\"model_key\":\"Audi\",\"mileage\":154391,\"engine_power\":190,\"fuel\":\"diesel\",\"paint_color\":\"black\",\"car_type\":\"sedan\",\"private_parking_available\":true,\"has_gps\":true,\"has_air_conditioning\":false,\"automatic_car\":false,\"has_getaround_connect\":true,\"has_speed_regulator\":true,\"winter_tires\":true,\"rental_price_per_day\":150},\"1502\":{\"model_key\":\"Citro\\xc3\\xabn\",\"mileage\":159883,\"engine_power\":120,\"fuel\":\"diesel\",\"paint_color\":\"white\",\"car_type\":\"estate\",\"private_parking_available\":false,\"has_gps\":true,\"has_air_conditioning\":false,\"automatic_car\":false,\"has_getaround_connect\":true,\"has_speed_regulator\":false,\"winter_tires\":true,\"rental_price_per_day\":112},\"1927\":{\"model_key\":\"BMW\",\"mileage\":125941,\"engine_power\":85,\"fuel\":\"diesel\",\"paint_color\":\"black\",\"car_type\":\"hatchback\",\"private_parking_available\":true,\"has_gps\":true,\"has_air_conditioning\":false,\"automatic_car\":false,\"has_getaround_connect\":true,\"has_speed_regulator\":false,\"winter_tires\":true,\"rental_price_per_day\":100},\"2954\":{\"model_key\":\"Renault\",\"mileage\":80063,\"engine_power\":135,\"fuel\":\"diesel\",\"paint_color\":\"silver\",\"car_type\":\"sedan\",\"private_parking_available\":true,\"has_gps\":true,\"has_air_conditioning\":false,\"automatic_car\":true,\"has_getaround_connect\":true,\"has_speed_regulator\":false,\"winter_tires\":true,\"rental_price_per_day\":157}}'"
      ]
     },
     "execution_count": 50,
     "metadata": {},
     "output_type": "execute_result"
    }
   ],
   "source": [
    "import requests\n",
    "r = requests.get(\"http://localhost:4000\")\n",
    "r.content"
   ]
  },
  {
   "cell_type": "code",
   "execution_count": 51,
   "metadata": {},
   "outputs": [
    {
     "data": {
      "text/plain": [
       "b'{\"detail\":\"Not Found\"}'"
      ]
     },
     "execution_count": 51,
     "metadata": {},
     "output_type": "execute_result"
    }
   ],
   "source": [
    "r = requests.get(\"http://localhost:4000/search_model_key/Maserati\")\n",
    "r.content"
   ]
  },
  {
   "cell_type": "code",
   "execution_count": 52,
   "metadata": {},
   "outputs": [
    {
     "name": "stdout",
     "output_type": "stream",
     "text": [
      "{'prediction': 141.13162177712616}\n"
     ]
    }
   ],
   "source": [
    "import requests\n",
    "import json\n",
    "\n",
    "response = requests.post(\"http://localhost:4000/predict\",\n",
    "    json={\n",
    "        \n",
    "        \"model_key\" : \"Peugeot\",\n",
    "        \"mileage\" : 14699,\n",
    "        \"engine_power\" : 100,\n",
    "        \"fuel\" : \"diesel\",\n",
    "        \"paint_color\" : \"black\",\n",
    "        \"car_type\" : \"sedan\",\n",
    "        \"private_parking_available\" : False,\n",
    "        \"has_gps\" : True,\n",
    "        \"has_air_conditioning\" : False,\n",
    "        \"automatic_car\" : False,\n",
    "        \"has_getaround_connect\" : False,\n",
    "        \"has_speed_regulator\" : True,\n",
    "        \"winter_tires\" : True\n",
    "})\n",
    "print(response.json())"
   ]
  }
 ],
 "metadata": {
  "kernelspec": {
   "display_name": "Python 3.10.4 ('venv': venv)",
   "language": "python",
   "name": "python3"
  },
  "language_info": {
   "codemirror_mode": {
    "name": "ipython",
    "version": 3
   },
   "file_extension": ".py",
   "mimetype": "text/x-python",
   "name": "python",
   "nbconvert_exporter": "python",
   "pygments_lexer": "ipython3",
   "version": "3.10.4"
  },
  "orig_nbformat": 4,
  "vscode": {
   "interpreter": {
    "hash": "ddc74c72bd0cfd799369808f418a583e2233c7b4de6bad0f720c0284c4752ac8"
   }
  }
 },
 "nbformat": 4,
 "nbformat_minor": 2
}
